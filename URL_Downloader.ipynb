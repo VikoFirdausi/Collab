{
  "nbformat": 4,
  "nbformat_minor": 0,
  "metadata": {
    "colab": {
      "name": "URL Downloader.ipynb",
      "provenance": [],
      "collapsed_sections": [],
      "include_colab_link": true
    },
    "kernelspec": {
      "display_name": "Python 3",
      "name": "python3"
    },
    "language_info": {
      "name": "python"
    }
  },
  "cells": [
    {
      "cell_type": "markdown",
      "metadata": {
        "id": "view-in-github",
        "colab_type": "text"
      },
      "source": [
        "<a href=\"https://colab.research.google.com/github/VikoFirdausi/Collab/blob/main/URL_Downloader.ipynb\" target=\"_parent\"><img src=\"https://colab.research.google.com/assets/colab-badge.svg\" alt=\"Open In Colab\"/></a>"
      ]
    },
    {
      "cell_type": "code",
      "metadata": {
        "id": "CQwljY-xseDI"
      },
      "source": [
        "#@title Mount GDrive\n",
        "from google.colab import drive\n",
        "drive.mount('/content/gdrive')\n",
        "!pip install zippyshare-downloader\n",
        "!pip install nhentai\n",
        "!pip install img2pdf\n",
        "!nhentai --language=english\n",
        "%cd /content/gdrive/MyDrive/Download"
      ],
      "execution_count": null,
      "outputs": []
    },
    {
      "cell_type": "markdown",
      "metadata": {
        "id": "bQGfSb6XHor_"
      },
      "source": [
        "# **Download Url To Drive**\n",
        "---"
      ]
    },
    {
      "cell_type": "code",
      "metadata": {
        "id": "Ki4MIGRwJn1W"
      },
      "source": [
        "Url_1 = '' #@param {type:\"string\"}\n",
        "!wget --content-disposition \"{Url_1}\" -P /content/gdrive/MyDrive/Download"
      ],
      "execution_count": null,
      "outputs": []
    },
    {
      "cell_type": "code",
      "metadata": {
        "id": "Z_eeMyDDtvsk"
      },
      "source": [
        "Url_2 = '' #@param {type:\"string\"}\n",
        "!wget --content-disposition \"{Url_2}\" -P /content/gdrive/MyDrive/Download"
      ],
      "execution_count": null,
      "outputs": []
    },
    {
      "cell_type": "code",
      "metadata": {
        "id": "jA5_mtpguYEP"
      },
      "source": [
        "Url_3 = '' #@param {type:\"string\"}\n",
        "!wget --content-disposition \"{Url_3}\" -P /content/gdrive/MyDrive/Download"
      ],
      "execution_count": null,
      "outputs": []
    },
    {
      "cell_type": "code",
      "metadata": {
        "id": "8C965h1WudC6"
      },
      "source": [
        "Url_4 = '' #@param {type:\"string\"}\n",
        "!wget --content-disposition \"{Url_4}\" -P /content/gdrive/MyDrive/Download"
      ],
      "execution_count": null,
      "outputs": []
    },
    {
      "cell_type": "code",
      "metadata": {
        "id": "EPSrJTjHDMZ3"
      },
      "source": [
        "Url_5 = '' #@param {type:\"string\"}\n",
        "!wget --content-disposition \"{Url_5}\" -P /content/gdrive/MyDrive/Download"
      ],
      "execution_count": null,
      "outputs": []
    },
    {
      "cell_type": "markdown",
      "metadata": {
        "id": "-SbXT7gjRlHi"
      },
      "source": [
        "# **Download Zippyshare To Drive**\n",
        " \n",
        "---"
      ]
    },
    {
      "cell_type": "code",
      "metadata": {
        "id": "11z3BMT5LuBy"
      },
      "source": [
        "Zippyshare_URL1 = '' #@param {type:\"string\"}\n",
        "from zippyshare_downloader import extract_info, extract_info_coro\n",
        "file = extract_info(Zippyshare_URL1, download=True)\n",
        "\n",
        "print(file)"
      ],
      "execution_count": null,
      "outputs": []
    },
    {
      "cell_type": "code",
      "metadata": {
        "id": "QFvDEQz0GGpZ"
      },
      "source": [
        "Zippyshare_URL2 = '' #@param {type:\"string\"}\n",
        "from zippyshare_downloader import extract_info, extract_info_coro\n",
        "file = extract_info(Zippyshare_URL2, download=True)\n",
        " \n",
        "print(file)"
      ],
      "execution_count": null,
      "outputs": []
    },
    {
      "cell_type": "code",
      "metadata": {
        "id": "7eF6_hjgGHA5"
      },
      "source": [
        "Zippyshare_URL3 = '' #@param {type:\"string\"}\n",
        "from zippyshare_downloader import extract_info, extract_info_coro\n",
        "file = extract_info(Zippyshare_URL3, download=True)\n",
        " \n",
        "print(file)"
      ],
      "execution_count": null,
      "outputs": []
    },
    {
      "cell_type": "code",
      "metadata": {
        "id": "4SL1BP6cGHyQ"
      },
      "source": [
        "Zippyshare_URL4 = '' #@param {type:\"string\"}\n",
        "from zippyshare_downloader import extract_info, extract_info_coro\n",
        "file = extract_info(Zippyshare_URL4, download=True)\n",
        " \n",
        "print(file)"
      ],
      "execution_count": null,
      "outputs": []
    },
    {
      "cell_type": "code",
      "metadata": {
        "id": "L85C_zMOGI07"
      },
      "source": [
        "Zippyshare_URL5 = '' #@param {type:\"string\"}\n",
        "from zippyshare_downloader import extract_info, extract_info_coro\n",
        "file = extract_info(Zippyshare_URL5, download=True)\n",
        "\n",
        "print(file)"
      ],
      "execution_count": null,
      "outputs": []
    },
    {
      "cell_type": "markdown",
      "metadata": {
        "id": "YrKxlqymptWt"
      },
      "source": [
        "# **Download Nhentai To Drive**\n",
        " \n",
        "---"
      ]
    },
    {
      "cell_type": "code",
      "metadata": {
        "cellView": "form",
        "id": "zIAWGizUYYgS"
      },
      "source": [
        "!nhentai -P --download --id=232943"
      ],
      "execution_count": null,
      "outputs": []
    },
    {
      "cell_type": "code",
      "metadata": {
        "id": "tKEPZgaRTMsi"
      },
      "source": [
        "!nhentai -s  -P -D --format '[%i]%t'"
      ],
      "execution_count": null,
      "outputs": []
    },
    {
      "cell_type": "code",
      "metadata": {
        "id": "oejy8etqU3A9"
      },
      "source": [
        "!nhentai -s 'tag:bondage'"
      ],
      "execution_count": null,
      "outputs": []
    },
    {
      "cell_type": "code",
      "metadata": {
        "id": "_87wMhP2SNud"
      },
      "source": [
        "!nhentai -S id=232943"
      ],
      "execution_count": null,
      "outputs": []
    }
  ]
}