{
  "nbformat": 4,
  "nbformat_minor": 0,
  "metadata": {
    "colab": {
      "name": "Untitled0.ipynb",
      "provenance": [],
      "authorship_tag": "ABX9TyOWneUftf595lIzK5RtVypt",
      "include_colab_link": true
    },
    "kernelspec": {
      "name": "python3",
      "display_name": "Python 3"
    },
    "language_info": {
      "name": "python"
    }
  },
  "cells": [
    {
      "cell_type": "markdown",
      "metadata": {
        "id": "view-in-github",
        "colab_type": "text"
      },
      "source": [
        "<a href=\"https://colab.research.google.com/github/VikoFirdausi/Collab/blob/main/PH%20Downloader.ipynb\" target=\"_parent\"><img src=\"https://colab.research.google.com/assets/colab-badge.svg\" alt=\"Open In Colab\"/></a>"
      ]
    },
    {
      "cell_type": "code",
      "metadata": {
        "colab": {
          "base_uri": "https://localhost:8080/"
        },
        "id": "x5jNzmoiSgC4",
        "outputId": "db854fd1-c0a4-4e5b-c04f-e7639f86d3f9"
      },
      "source": [
        "#@title Mount GDrive\n",
        "from google.colab import drive\n",
        "drive.mount('/content/gdrive')"
      ],
      "execution_count": null,
      "outputs": [
        {
          "output_type": "stream",
          "name": "stdout",
          "text": [
            "Mounted at /content/gdrive\n"
          ]
        }
      ]
    },
    {
      "cell_type": "code",
      "metadata": {
        "colab": {
          "base_uri": "https://localhost:8080/"
        },
        "id": "ilFfABczRG2K",
        "outputId": "6df7d35e-40db-4952-ffa2-7a59a7a80c9f"
      },
      "source": [
        "!ls"
      ],
      "execution_count": null,
      "outputs": [
        {
          "output_type": "stream",
          "name": "stdout",
          "text": [
            "go.mod\tgo.sum\tLICENSE  main.go  main_test.go\tMakefile  README.md\n"
          ]
        }
      ]
    },
    {
      "cell_type": "code",
      "metadata": {
        "id": "A7i_Uq_EZMU7"
      },
      "source": [
        "!apt install python3\n",
        "!apt install python3-pip\n",
        "!wget -O /content/gdrive/MyDrive/Download/Code/ https://github.com/mariosemes/PornHub-downloader-python/archive/master.zip\n",
        "!unzip master.zip\n",
        "%cd /content/gdrive/MyDrive/Download/Code/PornHub-downloader-python-master\n",
        "!pip3 install -r requirements.txt\n",
        "!$ python3 phdler.py\n",
        "!sudo apt-get remove -y youtube-dl\n",
        "!sudo pip install -U youtube-dl"
      ],
      "execution_count": null,
      "outputs": []
    },
    {
      "cell_type": "code",
      "metadata": {
        "colab": {
          "base_uri": "https://localhost:8080/"
        },
        "id": "IAiGzS_LGEWn",
        "outputId": "fd1dbf0f-a32f-423d-822a-a23acd46f3de"
      },
      "source": [
        "!python phdler.py"
      ],
      "execution_count": 28,
      "outputs": [
        {
          "output_type": "stream",
          "name": "stdout",
          "text": [
            "Running startup checks...\n",
            "Database exists.\n",
            "Error: Missing command.\n",
            "Please use the tool like this:\n",
            "+--------+---------+----------------------------------------------------------------------+\n",
            "| Tool   | command | item                                                                 |\n",
            "+--------+---------+----------------------------------------------------------------------+\n",
            "| phdler | start   |                                                                      |\n",
            "| phdler | custom  | url (full PornHub url) | batch (for .txt file)                       |\n",
            "| phdler | add     | model | pornstar | channel | user | playlist | batch (for .txt file) |\n",
            "| phdler | list    | model | pornstar | channel | user | playlist | all                   |\n",
            "| phdler | delete  | model | pornstar | channel | user | playlist                         |\n",
            "+--------+---------+----------------------------------------------------------------------+\n"
          ]
        }
      ]
    },
    {
      "cell_type": "code",
      "metadata": {
        "colab": {
          "base_uri": "https://localhost:8080/"
        },
        "id": "JQhT2oUbls5k",
        "outputId": "8c112da4-451b-48fd-e610-de066861aae2"
      },
      "source": [
        "!python phdler.py custom https://www.pornhub.com/view_video.php?viewkey=ph5e185a7cc8be9"
      ],
      "execution_count": 26,
      "outputs": [
        {
          "output_type": "stream",
          "name": "stdout",
          "text": [
            "Running startup checks...\n",
            "Database exists.\n",
            "PornHub url validated.\n",
            "and the URL is existing.\n",
            "[PornHub] ph5e185a7cc8be9: Downloading pc webpage\n",
            "[PornHub] ph5e185a7cc8be9: Downloading JSON metadata\n",
            "[PornHub] ph5e185a7cc8be9: Downloading m3u8 information\n",
            "[PornHub] ph5e185a7cc8be9: Downloading m3u8 information\n",
            "[PornHub] ph5e185a7cc8be9: Downloading m3u8 information\n",
            "[PornHub] ph5e185a7cc8be9: Downloading m3u8 information\n",
            "[PornHub] ph5e185a7cc8be9: Downloading m3u8 information\n",
            "[hlsnative] Downloading m3u8 manifest\n",
            "[hlsnative] Total fragments: 8\n",
            "[download] Destination: content//handpicked/My Hero Academia - dick for hotties 4K cosplay Purple Bitch Alice Bong free.mp4\n",
            "\u001b[K[download] 100% of 14.83MiB in 00:08\n",
            "[ffmpeg] Fixing malformed AAC bitstream in \"content//handpicked/My Hero Academia - dick for hotties 4K cosplay Purple Bitch Alice Bong free.mp4\"\n"
          ]
        }
      ]
    },
    {
      "cell_type": "code",
      "metadata": {
        "id": "1qZh5EDTmPDT"
      },
      "source": [
        "!python phdler.py start"
      ],
      "execution_count": null,
      "outputs": []
    }
  ]
}