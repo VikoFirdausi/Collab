{
  "nbformat": 4,
  "nbformat_minor": 0,
  "metadata": {
    "colab": {
      "name": "Reduce Video Resolution.ipynb",
      "provenance": [],
      "collapsed_sections": [],
      "include_colab_link": true
    },
    "kernelspec": {
      "display_name": "Python 3",
      "name": "python3"
    },
    "language_info": {
      "name": "python"
    }
  },
  "cells": [
    {
      "cell_type": "markdown",
      "metadata": {
        "id": "view-in-github",
        "colab_type": "text"
      },
      "source": [
        "<a href=\"https://colab.research.google.com/github/VikoFirdausi/Collab/blob/main/Reduce_Video_Resolution.ipynb\" target=\"_parent\"><img src=\"https://colab.research.google.com/assets/colab-badge.svg\" alt=\"Open In Colab\"/></a>"
      ]
    },
    {
      "cell_type": "markdown",
      "metadata": {
        "id": "TIqTfLFJaEiX"
      },
      "source": [
        "# **Mount Google Drive**\n",
        "---"
      ]
    },
    {
      "cell_type": "code",
      "metadata": {
        "id": "aQjB877w_oAt"
      },
      "source": [
        "#@title Mount GDrive\n",
        "from google.colab import drive\n",
        "drive.mount('/content/gdrive')\n",
        "!apt install mediainfo"
      ],
      "execution_count": null,
      "outputs": []
    },
    {
      "cell_type": "markdown",
      "metadata": {
        "id": "kKlMHUCnaN0M"
      },
      "source": [
        "# **File Directory**\n",
        "---"
      ]
    },
    {
      "cell_type": "code",
      "metadata": {
        "id": "fqx_EpaJ_qjB"
      },
      "source": [
        "#@title View File List\n",
        "!ls"
      ],
      "execution_count": null,
      "outputs": []
    },
    {
      "cell_type": "code",
      "metadata": {
        "id": "hYfx-lNz_5un"
      },
      "source": [
        " Directory = '' #@param {type: \"string\"}\n",
        "!cd \"{Directory}\""
      ],
      "execution_count": null,
      "outputs": []
    },
    {
      "cell_type": "markdown",
      "metadata": {
        "id": "xfQE9e8ZMP--"
      },
      "source": [
        "# **Video Information**"
      ]
    },
    {
      "cell_type": "code",
      "metadata": {
        "id": "B_TNjg9_LqFw"
      },
      "source": [
        "File_Video_name = '' #@param {type: \"string\"}\n",
        "!mediainfo --fullscan {File_Video_name}"
      ],
      "execution_count": null,
      "outputs": []
    },
    {
      "cell_type": "markdown",
      "metadata": {
        "id": "Cnj73WGvMdVV"
      },
      "source": [
        " # **Reduce Video Resolution**"
      ]
    },
    {
      "cell_type": "code",
      "metadata": {
        "colab": {
          "background_save": true
        },
        "id": "yC5Y2qKoDy7O"
      },
      "source": [
        " \n",
        "Input_Video = '' #@param {type: \"string\"}\n",
        "Resolution = '640x480' #@param [\"640x480\", \"1280x720\", \"1920x1080\"]\n",
        "Output_Video = '' #@param {type: \"string\"}\n",
        "!ffmpeg -i {Input_Video} -r 30 -s {Resolution} {Output_Video}"
      ],
      "execution_count": null,
      "outputs": []
    }
  ]
}