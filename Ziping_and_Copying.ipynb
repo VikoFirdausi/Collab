{
  "nbformat": 4,
  "nbformat_minor": 0,
  "metadata": {
    "colab": {
      "name": "Ziping and Copying.ipynb",
      "provenance": [],
      "include_colab_link": true
    },
    "kernelspec": {
      "display_name": "Python 3",
      "name": "python3"
    },
    "language_info": {
      "name": "python"
    }
  },
  "cells": [
    {
      "cell_type": "markdown",
      "metadata": {
        "id": "view-in-github",
        "colab_type": "text"
      },
      "source": [
        "<a href=\"https://colab.research.google.com/github/VikoFirdausi/Collab/blob/main/Ziping_and_Copying.ipynb\" target=\"_parent\"><img src=\"https://colab.research.google.com/assets/colab-badge.svg\" alt=\"Open In Colab\"/></a>"
      ]
    },
    {
      "cell_type": "code",
      "metadata": {
        "id": "D0OsztR7BmS5"
      },
      "source": [
        "#@title Mount GDrive\n",
        "from google.colab import drive\n",
        "drive.mount('/content/gdrive')\n",
        "!apt install ncdu\n",
        "%cd /content/gdrive/MyDrive"
      ],
      "execution_count": null,
      "outputs": []
    },
    {
      "cell_type": "code",
      "metadata": {
        "cellView": "form",
        "id": "3XhfIEO5CnCy"
      },
      "source": [
        "!ls"
      ],
      "execution_count": null,
      "outputs": []
    },
    {
      "cell_type": "code",
      "metadata": {
        "id": "_pS6Kk2bJ0sd"
      },
      "source": [
        "Directory = '' #@param {type:\"string\"}\n",
        "%cd \"{Directory}\""
      ],
      "execution_count": null,
      "outputs": []
    },
    {
      "cell_type": "markdown",
      "metadata": {
        "id": "iQ-fHWwNNoe6"
      },
      "source": [
        "# **See List contents of archive**"
      ]
    },
    {
      "cell_type": "code",
      "metadata": {
        "id": "5-_yUe4oNwQh"
      },
      "source": [
        "Name_Archive = '' #@param{type:\"string\"}\n",
        "!7z l \"{Name_Archive}\""
      ],
      "execution_count": null,
      "outputs": []
    },
    {
      "cell_type": "markdown",
      "metadata": {
        "id": "Moys9nfHHJOe"
      },
      "source": [
        "# **Zipping File**"
      ]
    },
    {
      "cell_type": "code",
      "metadata": {
        "id": "KlMK_MlMCa6Y"
      },
      "source": [
        "File_Name = '' #@param {type:\"string\"}\n",
        "Source_File = '' #@param {type:\"string\"}\n",
        "%cd {Source_File}\n",
        "!7z a {File_Name}.7z\n",
        "%cd /content/gdrive/MyDrive/Copy"
      ],
      "execution_count": null,
      "outputs": []
    },
    {
      "cell_type": "markdown",
      "metadata": {
        "id": "2EES-BY506d8"
      },
      "source": [
        "# **Extrack File**"
      ]
    },
    {
      "cell_type": "code",
      "metadata": {
        "id": "ujeEMaZQIr4n"
      },
      "source": [
        "Name_file = '' #@param{type:\"string\"}\n",
        "Password = '' #@param{type:\"string\"}\n",
        "Directory = '' #@param{type:\"string\"}\n",
        "!7z x -p\"{Password}\" \"{Name_file}\" -o\"{Directory}\""
      ],
      "execution_count": null,
      "outputs": []
    },
    {
      "cell_type": "markdown",
      "metadata": {
        "id": "nYVGygFE0xIC"
      },
      "source": [
        "# **Copy File**"
      ]
    },
    {
      "cell_type": "code",
      "metadata": {
        "colab": {
          "base_uri": "https://localhost:8080/"
        },
        "id": "yHlxoGVIm2yP",
        "outputId": "20e0daa5-cd25-48f3-87c6-b3b626cdbc06"
      },
      "source": [
        "Directory = '' #@param {type:\"string\"}\n",
        "%cd \"{Directory}\""
      ],
      "execution_count": 1,
      "outputs": [
        {
          "output_type": "stream",
          "name": "stdout",
          "text": [
            "/root\n"
          ]
        }
      ]
    },
    {
      "cell_type": "code",
      "metadata": {
        "id": "L6Ouigqym5LN"
      },
      "source": [
        "!ls"
      ],
      "execution_count": null,
      "outputs": []
    },
    {
      "cell_type": "code",
      "metadata": {
        "id": "eK_aAg94Ff1h"
      },
      "source": [
        "Directory1 = '' #@param {type: \"string\"}\n",
        "Destination = '' #@param {type: \"string\"}\n",
        "!cp -r -v \"{Directory1}\" \"{Destination}\""
      ],
      "execution_count": null,
      "outputs": []
    },
    {
      "cell_type": "markdown",
      "metadata": {
        "id": "u4q1GGQehbiQ"
      },
      "source": [
        "# **Check Size Directory**"
      ]
    },
    {
      "cell_type": "code",
      "metadata": {
        "id": "MixnuWMbhvsi"
      },
      "source": [
        "Directory2 = '' #@param {type:\"string\"}\n",
        "%cd \"{Directory2}\""
      ],
      "execution_count": null,
      "outputs": []
    },
    {
      "cell_type": "code",
      "metadata": {
        "id": "eZd-max2H3Ze"
      },
      "source": [
        "!ncdu"
      ],
      "execution_count": null,
      "outputs": []
    }
  ]
}